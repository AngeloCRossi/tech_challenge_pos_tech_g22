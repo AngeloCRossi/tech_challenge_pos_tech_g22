{
  "cells": [
    {
      "cell_type": "markdown",
      "source": [
        "Informação importante"
      ],
      "metadata": {
        "id": "WomIir64GcwX"
      },
      "id": "WomIir64GcwX"
    },
    {
      "cell_type": "code",
      "execution_count": 2,
      "id": "3a4454a9",
      "metadata": {
        "_cell_guid": "b1076dfc-b9ad-4769-8c92-a6c4dae69d19",
        "_uuid": "8f2839f25d086af736a60e9eeb907d3b93b6e0e5",
        "execution": {
          "iopub.execute_input": "2025-07-06T19:57:07.017658Z",
          "iopub.status.busy": "2025-07-06T19:57:07.016314Z",
          "iopub.status.idle": "2025-07-06T19:57:09.220490Z",
          "shell.execute_reply": "2025-07-06T19:57:09.218990Z"
        },
        "papermill": {
          "duration": 2.216608,
          "end_time": "2025-07-06T19:57:09.222618",
          "exception": false,
          "start_time": "2025-07-06T19:57:07.006010",
          "status": "completed"
        },
        "tags": [],
        "id": "3a4454a9"
      },
      "outputs": [],
      "source": [
        "#Trecho retirado do kaggle no link do dataset escolhido: https://www.kaggle.com/datasets/mathchi/diabetes-data-set/data\n",
        "import numpy as np # linear algebra\n",
        "import pandas as pd # data processing, CSV file I/O (e.g. pd.read_csv)\n",
        "\n",
        "import os\n",
        "for dirname, _, filenames in os.walk('/kaggle/input'):\n",
        "    for filename in filenames:\n",
        "        print(os.path.join(dirname, filename))\n",
        "\n",
        "import warnings\n",
        "warnings.filterwarnings(action='ignore')"
      ]
    },
    {
      "cell_type": "markdown",
      "id": "514079bc",
      "metadata": {
        "papermill": {
          "duration": 0.006733,
          "end_time": "2025-07-06T19:57:09.237410",
          "exception": false,
          "start_time": "2025-07-06T19:57:09.230677",
          "status": "completed"
        },
        "tags": [],
        "id": "514079bc"
      },
      "source": [
        "# Formato da base de dados:\n",
        "\n",
        "##  Sobre:\n",
        " Todos os pacientes são mulheres com pelo menos 21 anos de idade e de ascendência indígena Pima.\n",
        "\n",
        "## Análise exploratória dos dados (EDA):"
      ]
    },
    {
      "cell_type": "code",
      "execution_count": 3,
      "id": "4c92a417",
      "metadata": {
        "execution": {
          "iopub.execute_input": "2025-07-06T19:57:09.254244Z",
          "iopub.status.busy": "2025-07-06T19:57:09.253534Z",
          "iopub.status.idle": "2025-07-06T19:57:09.307990Z",
          "shell.execute_reply": "2025-07-06T19:57:09.306476Z"
        },
        "papermill": {
          "duration": 0.06529,
          "end_time": "2025-07-06T19:57:09.310054",
          "exception": false,
          "start_time": "2025-07-06T19:57:09.244764",
          "status": "completed"
        },
        "tags": [],
        "colab": {
          "base_uri": "https://localhost:8080/",
          "height": 373
        },
        "id": "4c92a417",
        "outputId": "c063802c-aad9-4626-b2e4-0f8601296f08"
      },
      "outputs": [
        {
          "output_type": "error",
          "ename": "FileNotFoundError",
          "evalue": "[Errno 2] No such file or directory: '/kaggle/input/diabetes-data-set/diabetes.csv'",
          "traceback": [
            "\u001b[0;31m---------------------------------------------------------------------------\u001b[0m",
            "\u001b[0;31mFileNotFoundError\u001b[0m                         Traceback (most recent call last)",
            "\u001b[0;32m/tmp/ipython-input-3-1474265931.py\u001b[0m in \u001b[0;36m<cell line: 0>\u001b[0;34m()\u001b[0m\n\u001b[1;32m      1\u001b[0m \u001b[0;32mimport\u001b[0m \u001b[0mpandas\u001b[0m \u001b[0;32mas\u001b[0m \u001b[0mpd\u001b[0m\u001b[0;34m\u001b[0m\u001b[0;34m\u001b[0m\u001b[0m\n\u001b[1;32m      2\u001b[0m \u001b[0;31m#abrindo base dados\u001b[0m\u001b[0;34m\u001b[0m\u001b[0;34m\u001b[0m\u001b[0m\n\u001b[0;32m----> 3\u001b[0;31m \u001b[0mdataset\u001b[0m \u001b[0;34m=\u001b[0m \u001b[0mpd\u001b[0m\u001b[0;34m.\u001b[0m\u001b[0mread_csv\u001b[0m\u001b[0;34m(\u001b[0m\u001b[0;34m\"/kaggle/input/diabetes-data-set/diabetes.csv\"\u001b[0m\u001b[0;34m)\u001b[0m\u001b[0;34m\u001b[0m\u001b[0;34m\u001b[0m\u001b[0m\n\u001b[0m\u001b[1;32m      4\u001b[0m \u001b[0;31m#imprimindo informações sobre a base dados\u001b[0m\u001b[0;34m\u001b[0m\u001b[0;34m\u001b[0m\u001b[0m\n\u001b[1;32m      5\u001b[0m \u001b[0mdataset\u001b[0m\u001b[0;34m.\u001b[0m\u001b[0minfo\u001b[0m\u001b[0;34m(\u001b[0m\u001b[0;34m)\u001b[0m\u001b[0;34m\u001b[0m\u001b[0;34m\u001b[0m\u001b[0m\n",
            "\u001b[0;32m/usr/local/lib/python3.11/dist-packages/pandas/io/parsers/readers.py\u001b[0m in \u001b[0;36mread_csv\u001b[0;34m(filepath_or_buffer, sep, delimiter, header, names, index_col, usecols, dtype, engine, converters, true_values, false_values, skipinitialspace, skiprows, skipfooter, nrows, na_values, keep_default_na, na_filter, verbose, skip_blank_lines, parse_dates, infer_datetime_format, keep_date_col, date_parser, date_format, dayfirst, cache_dates, iterator, chunksize, compression, thousands, decimal, lineterminator, quotechar, quoting, doublequote, escapechar, comment, encoding, encoding_errors, dialect, on_bad_lines, delim_whitespace, low_memory, memory_map, float_precision, storage_options, dtype_backend)\u001b[0m\n\u001b[1;32m   1024\u001b[0m     \u001b[0mkwds\u001b[0m\u001b[0;34m.\u001b[0m\u001b[0mupdate\u001b[0m\u001b[0;34m(\u001b[0m\u001b[0mkwds_defaults\u001b[0m\u001b[0;34m)\u001b[0m\u001b[0;34m\u001b[0m\u001b[0;34m\u001b[0m\u001b[0m\n\u001b[1;32m   1025\u001b[0m \u001b[0;34m\u001b[0m\u001b[0m\n\u001b[0;32m-> 1026\u001b[0;31m     \u001b[0;32mreturn\u001b[0m \u001b[0m_read\u001b[0m\u001b[0;34m(\u001b[0m\u001b[0mfilepath_or_buffer\u001b[0m\u001b[0;34m,\u001b[0m \u001b[0mkwds\u001b[0m\u001b[0;34m)\u001b[0m\u001b[0;34m\u001b[0m\u001b[0;34m\u001b[0m\u001b[0m\n\u001b[0m\u001b[1;32m   1027\u001b[0m \u001b[0;34m\u001b[0m\u001b[0m\n\u001b[1;32m   1028\u001b[0m \u001b[0;34m\u001b[0m\u001b[0m\n",
            "\u001b[0;32m/usr/local/lib/python3.11/dist-packages/pandas/io/parsers/readers.py\u001b[0m in \u001b[0;36m_read\u001b[0;34m(filepath_or_buffer, kwds)\u001b[0m\n\u001b[1;32m    618\u001b[0m \u001b[0;34m\u001b[0m\u001b[0m\n\u001b[1;32m    619\u001b[0m     \u001b[0;31m# Create the parser.\u001b[0m\u001b[0;34m\u001b[0m\u001b[0;34m\u001b[0m\u001b[0m\n\u001b[0;32m--> 620\u001b[0;31m     \u001b[0mparser\u001b[0m \u001b[0;34m=\u001b[0m \u001b[0mTextFileReader\u001b[0m\u001b[0;34m(\u001b[0m\u001b[0mfilepath_or_buffer\u001b[0m\u001b[0;34m,\u001b[0m \u001b[0;34m**\u001b[0m\u001b[0mkwds\u001b[0m\u001b[0;34m)\u001b[0m\u001b[0;34m\u001b[0m\u001b[0;34m\u001b[0m\u001b[0m\n\u001b[0m\u001b[1;32m    621\u001b[0m \u001b[0;34m\u001b[0m\u001b[0m\n\u001b[1;32m    622\u001b[0m     \u001b[0;32mif\u001b[0m \u001b[0mchunksize\u001b[0m \u001b[0;32mor\u001b[0m \u001b[0miterator\u001b[0m\u001b[0;34m:\u001b[0m\u001b[0;34m\u001b[0m\u001b[0;34m\u001b[0m\u001b[0m\n",
            "\u001b[0;32m/usr/local/lib/python3.11/dist-packages/pandas/io/parsers/readers.py\u001b[0m in \u001b[0;36m__init__\u001b[0;34m(self, f, engine, **kwds)\u001b[0m\n\u001b[1;32m   1618\u001b[0m \u001b[0;34m\u001b[0m\u001b[0m\n\u001b[1;32m   1619\u001b[0m         \u001b[0mself\u001b[0m\u001b[0;34m.\u001b[0m\u001b[0mhandles\u001b[0m\u001b[0;34m:\u001b[0m \u001b[0mIOHandles\u001b[0m \u001b[0;34m|\u001b[0m \u001b[0;32mNone\u001b[0m \u001b[0;34m=\u001b[0m \u001b[0;32mNone\u001b[0m\u001b[0;34m\u001b[0m\u001b[0;34m\u001b[0m\u001b[0m\n\u001b[0;32m-> 1620\u001b[0;31m         \u001b[0mself\u001b[0m\u001b[0;34m.\u001b[0m\u001b[0m_engine\u001b[0m \u001b[0;34m=\u001b[0m \u001b[0mself\u001b[0m\u001b[0;34m.\u001b[0m\u001b[0m_make_engine\u001b[0m\u001b[0;34m(\u001b[0m\u001b[0mf\u001b[0m\u001b[0;34m,\u001b[0m \u001b[0mself\u001b[0m\u001b[0;34m.\u001b[0m\u001b[0mengine\u001b[0m\u001b[0;34m)\u001b[0m\u001b[0;34m\u001b[0m\u001b[0;34m\u001b[0m\u001b[0m\n\u001b[0m\u001b[1;32m   1621\u001b[0m \u001b[0;34m\u001b[0m\u001b[0m\n\u001b[1;32m   1622\u001b[0m     \u001b[0;32mdef\u001b[0m \u001b[0mclose\u001b[0m\u001b[0;34m(\u001b[0m\u001b[0mself\u001b[0m\u001b[0;34m)\u001b[0m \u001b[0;34m->\u001b[0m \u001b[0;32mNone\u001b[0m\u001b[0;34m:\u001b[0m\u001b[0;34m\u001b[0m\u001b[0;34m\u001b[0m\u001b[0m\n",
            "\u001b[0;32m/usr/local/lib/python3.11/dist-packages/pandas/io/parsers/readers.py\u001b[0m in \u001b[0;36m_make_engine\u001b[0;34m(self, f, engine)\u001b[0m\n\u001b[1;32m   1878\u001b[0m                 \u001b[0;32mif\u001b[0m \u001b[0;34m\"b\"\u001b[0m \u001b[0;32mnot\u001b[0m \u001b[0;32min\u001b[0m \u001b[0mmode\u001b[0m\u001b[0;34m:\u001b[0m\u001b[0;34m\u001b[0m\u001b[0;34m\u001b[0m\u001b[0m\n\u001b[1;32m   1879\u001b[0m                     \u001b[0mmode\u001b[0m \u001b[0;34m+=\u001b[0m \u001b[0;34m\"b\"\u001b[0m\u001b[0;34m\u001b[0m\u001b[0;34m\u001b[0m\u001b[0m\n\u001b[0;32m-> 1880\u001b[0;31m             self.handles = get_handle(\n\u001b[0m\u001b[1;32m   1881\u001b[0m                 \u001b[0mf\u001b[0m\u001b[0;34m,\u001b[0m\u001b[0;34m\u001b[0m\u001b[0;34m\u001b[0m\u001b[0m\n\u001b[1;32m   1882\u001b[0m                 \u001b[0mmode\u001b[0m\u001b[0;34m,\u001b[0m\u001b[0;34m\u001b[0m\u001b[0;34m\u001b[0m\u001b[0m\n",
            "\u001b[0;32m/usr/local/lib/python3.11/dist-packages/pandas/io/common.py\u001b[0m in \u001b[0;36mget_handle\u001b[0;34m(path_or_buf, mode, encoding, compression, memory_map, is_text, errors, storage_options)\u001b[0m\n\u001b[1;32m    871\u001b[0m         \u001b[0;32mif\u001b[0m \u001b[0mioargs\u001b[0m\u001b[0;34m.\u001b[0m\u001b[0mencoding\u001b[0m \u001b[0;32mand\u001b[0m \u001b[0;34m\"b\"\u001b[0m \u001b[0;32mnot\u001b[0m \u001b[0;32min\u001b[0m \u001b[0mioargs\u001b[0m\u001b[0;34m.\u001b[0m\u001b[0mmode\u001b[0m\u001b[0;34m:\u001b[0m\u001b[0;34m\u001b[0m\u001b[0;34m\u001b[0m\u001b[0m\n\u001b[1;32m    872\u001b[0m             \u001b[0;31m# Encoding\u001b[0m\u001b[0;34m\u001b[0m\u001b[0;34m\u001b[0m\u001b[0m\n\u001b[0;32m--> 873\u001b[0;31m             handle = open(\n\u001b[0m\u001b[1;32m    874\u001b[0m                 \u001b[0mhandle\u001b[0m\u001b[0;34m,\u001b[0m\u001b[0;34m\u001b[0m\u001b[0;34m\u001b[0m\u001b[0m\n\u001b[1;32m    875\u001b[0m                 \u001b[0mioargs\u001b[0m\u001b[0;34m.\u001b[0m\u001b[0mmode\u001b[0m\u001b[0;34m,\u001b[0m\u001b[0;34m\u001b[0m\u001b[0;34m\u001b[0m\u001b[0m\n",
            "\u001b[0;31mFileNotFoundError\u001b[0m: [Errno 2] No such file or directory: '/kaggle/input/diabetes-data-set/diabetes.csv'"
          ]
        }
      ],
      "source": [
        "import pandas as pd\n",
        "#abrindo base dados\n",
        "dataset = pd.read_csv(\"/kaggle/input/diabetes-data-set/diabetes.csv\")\n",
        "#imprimindo informações sobre a base dados\n",
        "dataset.info()"
      ]
    },
    {
      "cell_type": "code",
      "execution_count": null,
      "id": "597ae753",
      "metadata": {
        "execution": {
          "iopub.execute_input": "2025-07-06T19:57:09.325671Z",
          "iopub.status.busy": "2025-07-06T19:57:09.325240Z",
          "iopub.status.idle": "2025-07-06T19:57:09.332823Z",
          "shell.execute_reply": "2025-07-06T19:57:09.331740Z"
        },
        "papermill": {
          "duration": 0.017022,
          "end_time": "2025-07-06T19:57:09.334278",
          "exception": false,
          "start_time": "2025-07-06T19:57:09.317256",
          "status": "completed"
        },
        "tags": [],
        "id": "597ae753"
      },
      "outputs": [],
      "source": [
        "dataset.shape"
      ]
    },
    {
      "cell_type": "markdown",
      "id": "410e1ed5",
      "metadata": {
        "papermill": {
          "duration": 0.007473,
          "end_time": "2025-07-06T19:57:09.348791",
          "exception": false,
          "start_time": "2025-07-06T19:57:09.341318",
          "status": "completed"
        },
        "tags": [],
        "id": "410e1ed5"
      },
      "source": [
        "Em análise inicial vemos que o dataset tem o formato de tabela com 768 registros com 9 colunas sendo que, nenhuma do tipo texto."
      ]
    },
    {
      "cell_type": "code",
      "execution_count": null,
      "id": "2eade82f",
      "metadata": {
        "execution": {
          "iopub.execute_input": "2025-07-06T19:57:09.365134Z",
          "iopub.status.busy": "2025-07-06T19:57:09.364751Z",
          "iopub.status.idle": "2025-07-06T19:57:09.391062Z",
          "shell.execute_reply": "2025-07-06T19:57:09.389742Z"
        },
        "papermill": {
          "duration": 0.036709,
          "end_time": "2025-07-06T19:57:09.393086",
          "exception": false,
          "start_time": "2025-07-06T19:57:09.356377",
          "status": "completed"
        },
        "tags": [],
        "id": "2eade82f"
      },
      "outputs": [],
      "source": [
        "dataset.head()"
      ]
    },
    {
      "cell_type": "markdown",
      "id": "47234f52",
      "metadata": {
        "papermill": {
          "duration": 0.006634,
          "end_time": "2025-07-06T19:57:09.408057",
          "exception": false,
          "start_time": "2025-07-06T19:57:09.401423",
          "status": "completed"
        },
        "tags": [],
        "id": "47234f52"
      },
      "source": [
        "O dataset é composto pelas colunas:\n",
        "* Pregnancies: Número de vezes grávida\n",
        "* Glucose: Concentração de glicose plasmática a 2 horas em um teste de tolerância oral à glicose\n",
        "* BloodPressure: Pressão arterial diastólica (mm Hg)\n",
        "* SkinThickness: Espessura da prega cutânea do tríceps (mm)\n",
        "* Insulin: Insulina sérica de 2 horas (mu U/ml)\n",
        "* BMI: Índice de massa corporal (peso em kg/(altura em m)^2)\n",
        "* DiabetesPedigreeFunction: Função de pedigree do diabetes\n",
        "* Age: Idade (anos)\n",
        "* Outcome (variavel target): Variável de classe (0 ou 1)\n",
        "\n",
        "\n",
        "Teremos como a variável \"target\" a coluna \"Outcome\"."
      ]
    },
    {
      "cell_type": "code",
      "execution_count": null,
      "id": "8d96c7e6",
      "metadata": {
        "execution": {
          "iopub.execute_input": "2025-07-06T19:57:09.436654Z",
          "iopub.status.busy": "2025-07-06T19:57:09.436242Z",
          "iopub.status.idle": "2025-07-06T19:57:09.476379Z",
          "shell.execute_reply": "2025-07-06T19:57:09.474986Z"
        },
        "papermill": {
          "duration": 0.050154,
          "end_time": "2025-07-06T19:57:09.478307",
          "exception": false,
          "start_time": "2025-07-06T19:57:09.428153",
          "status": "completed"
        },
        "tags": [],
        "id": "8d96c7e6"
      },
      "outputs": [],
      "source": [
        "dataset.describe()"
      ]
    },
    {
      "cell_type": "markdown",
      "id": "d1bb388c",
      "metadata": {
        "papermill": {
          "duration": 0.007264,
          "end_time": "2025-07-06T19:57:09.493112",
          "exception": false,
          "start_time": "2025-07-06T19:57:09.485848",
          "status": "completed"
        },
        "tags": [],
        "id": "d1bb388c"
      },
      "source": [
        "## Verificar a existencia de valores nulos"
      ]
    },
    {
      "cell_type": "code",
      "execution_count": null,
      "id": "8c4e7257",
      "metadata": {
        "execution": {
          "iopub.execute_input": "2025-07-06T19:57:09.510010Z",
          "iopub.status.busy": "2025-07-06T19:57:09.509661Z",
          "iopub.status.idle": "2025-07-06T19:57:09.518841Z",
          "shell.execute_reply": "2025-07-06T19:57:09.517806Z"
        },
        "papermill": {
          "duration": 0.020366,
          "end_time": "2025-07-06T19:57:09.520780",
          "exception": false,
          "start_time": "2025-07-06T19:57:09.500414",
          "status": "completed"
        },
        "tags": [],
        "id": "8c4e7257"
      },
      "outputs": [],
      "source": [
        "dataset.isnull().sum()"
      ]
    },
    {
      "cell_type": "markdown",
      "id": "cacf3333",
      "metadata": {
        "papermill": {
          "duration": 0.007283,
          "end_time": "2025-07-06T19:57:09.535617",
          "exception": false,
          "start_time": "2025-07-06T19:57:09.528334",
          "status": "completed"
        },
        "tags": [],
        "id": "cacf3333"
      },
      "source": [
        "Aparentemente o dataset não tem nenhum valor nulo"
      ]
    },
    {
      "cell_type": "markdown",
      "id": "1cb6f0bf",
      "metadata": {
        "papermill": {
          "duration": 0.007279,
          "end_time": "2025-07-06T19:57:09.551040",
          "exception": false,
          "start_time": "2025-07-06T19:57:09.543761",
          "status": "completed"
        },
        "tags": [],
        "id": "1cb6f0bf"
      },
      "source": [
        "## Distribuição dos dados"
      ]
    },
    {
      "cell_type": "code",
      "execution_count": null,
      "id": "24e84afb",
      "metadata": {
        "execution": {
          "iopub.execute_input": "2025-07-06T19:57:09.568138Z",
          "iopub.status.busy": "2025-07-06T19:57:09.567633Z",
          "iopub.status.idle": "2025-07-06T19:57:09.580511Z",
          "shell.execute_reply": "2025-07-06T19:57:09.579426Z"
        },
        "papermill": {
          "duration": 0.023614,
          "end_time": "2025-07-06T19:57:09.582372",
          "exception": false,
          "start_time": "2025-07-06T19:57:09.558758",
          "status": "completed"
        },
        "tags": [],
        "id": "24e84afb"
      },
      "outputs": [],
      "source": [
        "total = len(dataset)\n",
        "diabetics = dataset[dataset['Outcome'] == 1].Outcome.count()\n",
        "nonDiabetics = dataset[dataset['Outcome'] == 0].Outcome.count()\n",
        "\n",
        "print(f\"\\nTotal de registros: {total}\")\n",
        "print(f\"Diabeticos: {diabetics}\")\n",
        "print(f\"Não Diabeticos: {nonDiabetics}\")"
      ]
    },
    {
      "cell_type": "markdown",
      "id": "b00658f6",
      "metadata": {
        "papermill": {
          "duration": 0.007696,
          "end_time": "2025-07-06T19:57:09.597718",
          "exception": false,
          "start_time": "2025-07-06T19:57:09.590022",
          "status": "completed"
        },
        "tags": [],
        "id": "b00658f6"
      },
      "source": [
        "### Visualização gráfica da distribuição:"
      ]
    },
    {
      "cell_type": "code",
      "execution_count": null,
      "id": "14f90712",
      "metadata": {
        "execution": {
          "iopub.execute_input": "2025-07-06T19:57:09.615318Z",
          "iopub.status.busy": "2025-07-06T19:57:09.614935Z",
          "iopub.status.idle": "2025-07-06T19:57:09.868567Z",
          "shell.execute_reply": "2025-07-06T19:57:09.867452Z"
        },
        "papermill": {
          "duration": 0.265034,
          "end_time": "2025-07-06T19:57:09.870557",
          "exception": false,
          "start_time": "2025-07-06T19:57:09.605523",
          "status": "completed"
        },
        "tags": [],
        "id": "14f90712"
      },
      "outputs": [],
      "source": [
        "import matplotlib.pyplot as plt\n",
        "\n",
        "colors = ['red', 'green']\n",
        "labels = ['Diabéticos (1)', 'Não Diabéticos (0)']\n",
        "\n",
        "plt.pie(dataset['Outcome'].value_counts(), labels=labels, colors=colors, autopct='%1.0f%%', textprops={'fontsize': 20})\n",
        "plt.show()"
      ]
    },
    {
      "cell_type": "markdown",
      "id": "b45bf3d7",
      "metadata": {
        "papermill": {
          "duration": 0.007742,
          "end_time": "2025-07-06T19:57:09.886542",
          "exception": false,
          "start_time": "2025-07-06T19:57:09.878800",
          "status": "completed"
        },
        "tags": [],
        "id": "b45bf3d7"
      },
      "source": [
        "## Analise das features"
      ]
    },
    {
      "cell_type": "code",
      "execution_count": null,
      "id": "1d7b72b0",
      "metadata": {
        "execution": {
          "iopub.execute_input": "2025-07-06T19:57:09.906197Z",
          "iopub.status.busy": "2025-07-06T19:57:09.905011Z",
          "iopub.status.idle": "2025-07-06T19:57:14.585394Z",
          "shell.execute_reply": "2025-07-06T19:57:14.584060Z"
        },
        "papermill": {
          "duration": 4.693337,
          "end_time": "2025-07-06T19:57:14.588562",
          "exception": false,
          "start_time": "2025-07-06T19:57:09.895225",
          "status": "completed"
        },
        "tags": [],
        "id": "1d7b72b0"
      },
      "outputs": [],
      "source": [
        "import seaborn as sns\n",
        "\n",
        "feature_names = [cname for cname in dataset.loc[:,:'Age'].columns]\n",
        "plt.figure(figsize = (10,10))\n",
        "\n",
        "i = 1\n",
        "for feature in feature_names:\n",
        "    plt.subplot(4,2,i)\n",
        "    plt.title(feature)\n",
        "    sns.histplot(x=feature, data = dataset, hue=\"Outcome\")\n",
        "    i = i + 1\n",
        "plt.tight_layout()\n",
        "plt.show()"
      ]
    },
    {
      "cell_type": "markdown",
      "id": "8de923bc",
      "metadata": {
        "papermill": {
          "duration": 0.01028,
          "end_time": "2025-07-06T19:57:14.609060",
          "exception": false,
          "start_time": "2025-07-06T19:57:14.598780",
          "status": "completed"
        },
        "tags": [],
        "id": "8de923bc"
      },
      "source": [
        "### Correlação entre as Features"
      ]
    },
    {
      "cell_type": "code",
      "execution_count": null,
      "id": "c77132bc",
      "metadata": {
        "execution": {
          "iopub.execute_input": "2025-07-06T19:57:14.633528Z",
          "iopub.status.busy": "2025-07-06T19:57:14.632885Z",
          "iopub.status.idle": "2025-07-06T19:57:15.146969Z",
          "shell.execute_reply": "2025-07-06T19:57:15.145930Z"
        },
        "papermill": {
          "duration": 0.529299,
          "end_time": "2025-07-06T19:57:15.149800",
          "exception": false,
          "start_time": "2025-07-06T19:57:14.620501",
          "status": "completed"
        },
        "tags": [],
        "id": "c77132bc"
      },
      "outputs": [],
      "source": [
        "correlation = dataset.corr()\n",
        "\n",
        "fig, ax = plt.subplots(figsize=(8,8))\n",
        "sns.heatmap(data=correlation, annot=True, linewidths=.5, ax=ax)"
      ]
    },
    {
      "cell_type": "markdown",
      "id": "227cee5d",
      "metadata": {
        "papermill": {
          "duration": 0.011425,
          "end_time": "2025-07-06T19:57:15.173553",
          "exception": false,
          "start_time": "2025-07-06T19:57:15.162128",
          "status": "completed"
        },
        "tags": [],
        "id": "227cee5d"
      },
      "source": [
        "A feature com maior relação ao diagnostico de diabetes é a Glucose (0,47)"
      ]
    },
    {
      "cell_type": "markdown",
      "id": "f0f88af3",
      "metadata": {
        "papermill": {
          "duration": 0.011607,
          "end_time": "2025-07-06T19:57:15.197754",
          "exception": false,
          "start_time": "2025-07-06T19:57:15.186147",
          "status": "completed"
        },
        "tags": [],
        "id": "f0f88af3"
      },
      "source": [
        "# Criação do Modelo\n",
        "\n",
        "## Separação da base de treino e teste"
      ]
    },
    {
      "cell_type": "code",
      "execution_count": null,
      "id": "61815463",
      "metadata": {
        "execution": {
          "iopub.execute_input": "2025-07-06T19:57:15.222970Z",
          "iopub.status.busy": "2025-07-06T19:57:15.222629Z",
          "iopub.status.idle": "2025-07-06T19:57:15.548523Z",
          "shell.execute_reply": "2025-07-06T19:57:15.547248Z"
        },
        "papermill": {
          "duration": 0.341213,
          "end_time": "2025-07-06T19:57:15.550869",
          "exception": false,
          "start_time": "2025-07-06T19:57:15.209656",
          "status": "completed"
        },
        "tags": [],
        "id": "61815463"
      },
      "outputs": [],
      "source": [
        "from sklearn.model_selection import train_test_split\n",
        "\n",
        "x = dataset.drop('Outcome', axis=1)\n",
        "y = dataset['Outcome']\n",
        "\n",
        "x_train, x_test, y_train, y_test = train_test_split(x, y, test_size=0.2, stratify=y, random_state=7) #20% para teste e"
      ]
    },
    {
      "cell_type": "markdown",
      "id": "330838b2",
      "metadata": {
        "papermill": {
          "duration": 0.011138,
          "end_time": "2025-07-06T19:57:15.574734",
          "exception": false,
          "start_time": "2025-07-06T19:57:15.563596",
          "status": "completed"
        },
        "tags": [],
        "id": "330838b2"
      },
      "source": [
        "## Configurar o modelo"
      ]
    },
    {
      "cell_type": "code",
      "execution_count": null,
      "id": "e51dd54d",
      "metadata": {
        "execution": {
          "iopub.execute_input": "2025-07-06T19:57:15.603667Z",
          "iopub.status.busy": "2025-07-06T19:57:15.602807Z",
          "iopub.status.idle": "2025-07-06T19:57:16.000528Z",
          "shell.execute_reply": "2025-07-06T19:57:15.999174Z"
        },
        "papermill": {
          "duration": 0.4157,
          "end_time": "2025-07-06T19:57:16.003303",
          "exception": false,
          "start_time": "2025-07-06T19:57:15.587603",
          "status": "completed"
        },
        "tags": [],
        "id": "e51dd54d"
      },
      "outputs": [],
      "source": [
        "from sklearn.neighbors import KNeighborsClassifier\n",
        "\n",
        "error = []\n",
        "\n",
        "# Calculating error for K values between 1 and 10\n",
        "for i in range(1, 10):\n",
        "    knn = KNeighborsClassifier(n_neighbors=i)\n",
        "    knn.fit(x_train, y_train)\n",
        "    pred_i = knn.predict(x_test)\n",
        "    error.append(np.mean(pred_i != y_test))"
      ]
    },
    {
      "cell_type": "code",
      "execution_count": null,
      "id": "148696a3",
      "metadata": {
        "execution": {
          "iopub.execute_input": "2025-07-06T19:57:16.027486Z",
          "iopub.status.busy": "2025-07-06T19:57:16.027054Z",
          "iopub.status.idle": "2025-07-06T19:57:16.483887Z",
          "shell.execute_reply": "2025-07-06T19:57:16.482649Z"
        },
        "papermill": {
          "duration": 0.471361,
          "end_time": "2025-07-06T19:57:16.486061",
          "exception": false,
          "start_time": "2025-07-06T19:57:16.014700",
          "status": "completed"
        },
        "tags": [],
        "id": "148696a3"
      },
      "outputs": [],
      "source": [
        "plt.figure(figsize=(12, 6))\n",
        "plt.plot(range(1, 10), error, color='red', linestyle='dashed', marker='o',\n",
        "         markerfacecolor='blue', markersize=10)\n",
        "plt.title('Error Rate K Value')\n",
        "plt.xlabel('K Value')\n",
        "plt.ylabel('Mean Error')"
      ]
    },
    {
      "cell_type": "code",
      "execution_count": null,
      "id": "29490b28",
      "metadata": {
        "execution": {
          "iopub.execute_input": "2025-07-06T19:57:16.516308Z",
          "iopub.status.busy": "2025-07-06T19:57:16.515956Z",
          "iopub.status.idle": "2025-07-06T19:57:16.521045Z",
          "shell.execute_reply": "2025-07-06T19:57:16.520036Z"
        },
        "papermill": {
          "duration": 0.02133,
          "end_time": "2025-07-06T19:57:16.522788",
          "exception": false,
          "start_time": "2025-07-06T19:57:16.501458",
          "status": "completed"
        },
        "tags": [],
        "id": "29490b28"
      },
      "outputs": [],
      "source": [
        "model = KNeighborsClassifier(n_neighbors=9)"
      ]
    },
    {
      "cell_type": "code",
      "execution_count": null,
      "id": "2e13dd05",
      "metadata": {
        "execution": {
          "iopub.execute_input": "2025-07-06T19:57:16.628976Z",
          "iopub.status.busy": "2025-07-06T19:57:16.628593Z",
          "iopub.status.idle": "2025-07-06T19:57:16.646630Z",
          "shell.execute_reply": "2025-07-06T19:57:16.645417Z"
        },
        "papermill": {
          "duration": 0.1135,
          "end_time": "2025-07-06T19:57:16.648479",
          "exception": false,
          "start_time": "2025-07-06T19:57:16.534979",
          "status": "completed"
        },
        "tags": [],
        "id": "2e13dd05"
      },
      "outputs": [],
      "source": [
        "model.fit(x_train, y_train)"
      ]
    },
    {
      "cell_type": "markdown",
      "id": "620b05fc",
      "metadata": {
        "papermill": {
          "duration": 0.014477,
          "end_time": "2025-07-06T19:57:16.676728",
          "exception": false,
          "start_time": "2025-07-06T19:57:16.662251",
          "status": "completed"
        },
        "tags": [],
        "id": "620b05fc"
      },
      "source": []
    },
    {
      "cell_type": "markdown",
      "id": "47016dd4",
      "metadata": {
        "papermill": {
          "duration": 0.013293,
          "end_time": "2025-07-06T19:57:16.703780",
          "exception": false,
          "start_time": "2025-07-06T19:57:16.690487",
          "status": "completed"
        },
        "tags": [],
        "id": "47016dd4"
      },
      "source": [
        "## Testando o modelo"
      ]
    },
    {
      "cell_type": "code",
      "execution_count": null,
      "id": "14e5ff5a",
      "metadata": {
        "execution": {
          "iopub.execute_input": "2025-07-06T19:57:16.732707Z",
          "iopub.status.busy": "2025-07-06T19:57:16.732289Z",
          "iopub.status.idle": "2025-07-06T19:57:16.749580Z",
          "shell.execute_reply": "2025-07-06T19:57:16.748331Z"
        },
        "papermill": {
          "duration": 0.034671,
          "end_time": "2025-07-06T19:57:16.751756",
          "exception": false,
          "start_time": "2025-07-06T19:57:16.717085",
          "status": "completed"
        },
        "tags": [],
        "id": "14e5ff5a"
      },
      "outputs": [],
      "source": [
        "y_predicted = model.predict(x_test)"
      ]
    },
    {
      "cell_type": "code",
      "execution_count": null,
      "id": "b1e2f81e",
      "metadata": {
        "execution": {
          "iopub.execute_input": "2025-07-06T19:57:16.781535Z",
          "iopub.status.busy": "2025-07-06T19:57:16.781119Z",
          "iopub.status.idle": "2025-07-06T19:57:16.797694Z",
          "shell.execute_reply": "2025-07-06T19:57:16.796249Z"
        },
        "papermill": {
          "duration": 0.033866,
          "end_time": "2025-07-06T19:57:16.799746",
          "exception": false,
          "start_time": "2025-07-06T19:57:16.765880",
          "status": "completed"
        },
        "tags": [],
        "id": "b1e2f81e"
      },
      "outputs": [],
      "source": [
        "dataset.groupby('Outcome').count()"
      ]
    },
    {
      "cell_type": "code",
      "execution_count": null,
      "id": "cd616b43",
      "metadata": {
        "execution": {
          "iopub.execute_input": "2025-07-06T19:57:16.828851Z",
          "iopub.status.busy": "2025-07-06T19:57:16.828496Z",
          "iopub.status.idle": "2025-07-06T19:57:17.111283Z",
          "shell.execute_reply": "2025-07-06T19:57:17.109881Z"
        },
        "papermill": {
          "duration": 0.299721,
          "end_time": "2025-07-06T19:57:17.113176",
          "exception": false,
          "start_time": "2025-07-06T19:57:16.813455",
          "status": "completed"
        },
        "tags": [],
        "id": "cd616b43"
      },
      "outputs": [],
      "source": [
        "from sklearn.metrics import confusion_matrix\n",
        "from sklearn.metrics import ConfusionMatrixDisplay\n",
        "\n",
        "confusion_matrix = confusion_matrix(y_true = y_test,\n",
        "                                   y_pred = y_predicted,\n",
        "                                   labels= [1, 0])\n",
        "\n",
        "figure = plt.figure(figsize=(15, 5))\n",
        "disp = ConfusionMatrixDisplay(confusion_matrix = confusion_matrix,\n",
        "                              display_labels= [1, 0])\n",
        "\n",
        "disp.plot(values_format='d')"
      ]
    },
    {
      "cell_type": "markdown",
      "id": "1a9e6d0c",
      "metadata": {
        "papermill": {
          "duration": 0.019709,
          "end_time": "2025-07-06T19:57:17.147788",
          "exception": false,
          "start_time": "2025-07-06T19:57:17.128079",
          "status": "completed"
        },
        "tags": [],
        "id": "1a9e6d0c"
      },
      "source": [
        "True Positive (TP): 31\n",
        "\n",
        "True Negative (TN): 84\n",
        "\n",
        "False Positive (FP): 16\n",
        "\n",
        "False Negative (FN): 23"
      ]
    },
    {
      "cell_type": "code",
      "execution_count": null,
      "id": "bc188157",
      "metadata": {
        "execution": {
          "iopub.execute_input": "2025-07-06T19:57:17.180255Z",
          "iopub.status.busy": "2025-07-06T19:57:17.179827Z",
          "iopub.status.idle": "2025-07-06T19:57:17.206828Z",
          "shell.execute_reply": "2025-07-06T19:57:17.205291Z"
        },
        "papermill": {
          "duration": 0.04706,
          "end_time": "2025-07-06T19:57:17.208946",
          "exception": false,
          "start_time": "2025-07-06T19:57:17.161886",
          "status": "completed"
        },
        "tags": [],
        "id": "bc188157"
      },
      "outputs": [],
      "source": [
        "from sklearn.metrics import classification_report\n",
        "\n",
        "print(classification_report(y_test, y_predicted))"
      ]
    },
    {
      "cell_type": "markdown",
      "id": "74d348b6",
      "metadata": {
        "papermill": {
          "duration": 0.014864,
          "end_time": "2025-07-06T19:57:17.238642",
          "exception": false,
          "start_time": "2025-07-06T19:57:17.223778",
          "status": "completed"
        },
        "tags": [],
        "id": "74d348b6"
      },
      "source": [
        "## Testando KNN com validação Cruzada:"
      ]
    },
    {
      "cell_type": "code",
      "execution_count": null,
      "id": "ce3ff2cd",
      "metadata": {
        "execution": {
          "iopub.execute_input": "2025-07-06T19:57:17.269376Z",
          "iopub.status.busy": "2025-07-06T19:57:17.269003Z",
          "iopub.status.idle": "2025-07-06T19:57:17.357100Z",
          "shell.execute_reply": "2025-07-06T19:57:17.355538Z"
        },
        "papermill": {
          "duration": 0.106118,
          "end_time": "2025-07-06T19:57:17.359287",
          "exception": false,
          "start_time": "2025-07-06T19:57:17.253169",
          "status": "completed"
        },
        "tags": [],
        "id": "ce3ff2cd"
      },
      "outputs": [],
      "source": [
        "from sklearn.model_selection import cross_val_score\n",
        "from sklearn.model_selection import KFold\n",
        "\n",
        "kfold  = KFold(n_splits=5, shuffle=True)\n",
        "result = cross_val_score(model, x, y, cv = kfold)\n",
        "\n",
        "print(\"K-Fold (R^2) Scores: {0}\".format(result))\n",
        "print(\"Mean R^2 for Cross-Validation K-Fold: {0}\".format(result.mean()))"
      ]
    },
    {
      "cell_type": "code",
      "execution_count": null,
      "id": "fac0deb3",
      "metadata": {
        "execution": {
          "iopub.execute_input": "2025-07-06T19:57:17.389305Z",
          "iopub.status.busy": "2025-07-06T19:57:17.388928Z",
          "iopub.status.idle": "2025-07-06T19:57:20.297835Z",
          "shell.execute_reply": "2025-07-06T19:57:20.295939Z"
        },
        "papermill": {
          "duration": 2.926235,
          "end_time": "2025-07-06T19:57:20.300153",
          "exception": false,
          "start_time": "2025-07-06T19:57:17.373918",
          "status": "completed"
        },
        "tags": [],
        "id": "fac0deb3"
      },
      "outputs": [],
      "source": [
        "from sklearn.model_selection import GridSearchCV\n",
        "from sklearn.metrics import make_scorer, accuracy_score, f1_score\n",
        "\n",
        "# Buscar os melhores parâmetros\n",
        "# Vamos usar uma técnica chamada Gridsearch que é basicamente a busca por força bruta\n",
        "# Iremos utilizar a técnica de validação cruzada de 5 folds (divisões) em cima do conjunto de treinamento\n",
        "# Como métrica de melhor desemepnho usaremos a acurácia, isto é, estamos buscando os hiperparâmetros que maximizam a acurácia\n",
        "\n",
        "# Parâmetros testados\n",
        "param_grid = {\n",
        "            'n_neighbors':[3,9], #total de vizinhos\n",
        "            'weights': ['uniform', 'distance'], #Função de peso usada na previsão\n",
        "            'metric':['cosine', 'euclidean', 'manhattan'] #métrica para cálculo da distância\n",
        "             }\n",
        "\n",
        "# Métrica de desempenho = melhor acurácia\n",
        "gs_metric = make_scorer(accuracy_score, greater_is_better=True)\n",
        "\n",
        "grid = GridSearchCV(\n",
        "    KNeighborsClassifier(),\n",
        "    param_grid=param_grid,\n",
        "    scoring=gs_metric,\n",
        "    cv=5,\n",
        "    n_jobs=4,\n",
        "    verbose=3\n",
        ") #cv = gerador de validação cruzada / n_jobs = determina a quantidade de jobs processados\n",
        "\n",
        "grid.fit(x_train, y_train) #Selecionando os melhores hiperparametros com base nos dados de treino\n",
        "knn_params = grid.best_params_\n",
        "print('KNN', knn_params)"
      ]
    },
    {
      "cell_type": "code",
      "execution_count": null,
      "id": "afad1ad5",
      "metadata": {
        "execution": {
          "iopub.execute_input": "2025-07-06T19:57:20.350302Z",
          "iopub.status.busy": "2025-07-06T19:57:20.349179Z",
          "iopub.status.idle": "2025-07-06T19:57:20.363996Z",
          "shell.execute_reply": "2025-07-06T19:57:20.362845Z"
        },
        "papermill": {
          "duration": 0.042234,
          "end_time": "2025-07-06T19:57:20.366393",
          "exception": false,
          "start_time": "2025-07-06T19:57:20.324159",
          "status": "completed"
        },
        "tags": [],
        "id": "afad1ad5"
      },
      "outputs": [],
      "source": [
        "grid.cv_results_"
      ]
    },
    {
      "cell_type": "markdown",
      "id": "9f1f5ef8",
      "metadata": {
        "papermill": {
          "duration": 0.013671,
          "end_time": "2025-07-06T19:57:20.401913",
          "exception": false,
          "start_time": "2025-07-06T19:57:20.388242",
          "status": "completed"
        },
        "tags": [],
        "id": "9f1f5ef8"
      },
      "source": [
        "## Testando vários tipos de algoritmos de classificação:"
      ]
    },
    {
      "cell_type": "code",
      "execution_count": null,
      "id": "91f5e88f",
      "metadata": {
        "execution": {
          "iopub.execute_input": "2025-07-06T19:57:20.431510Z",
          "iopub.status.busy": "2025-07-06T19:57:20.430498Z",
          "iopub.status.idle": "2025-07-06T19:57:20.443797Z",
          "shell.execute_reply": "2025-07-06T19:57:20.442215Z"
        },
        "papermill": {
          "duration": 0.030217,
          "end_time": "2025-07-06T19:57:20.445686",
          "exception": false,
          "start_time": "2025-07-06T19:57:20.415469",
          "status": "completed"
        },
        "tags": [],
        "id": "91f5e88f"
      },
      "outputs": [],
      "source": [
        "def AplicaValidacaoCruzada(x_axis, y_axis):\n",
        "  # Linear Models.\n",
        "  from sklearn.neighbors import KNeighborsClassifier  # k-vizinhos mais próximos (KNN)\n",
        "  from sklearn.ensemble import RandomForestClassifier # RandomForest\n",
        "  from sklearn.svm import SVC                         # Maquina de Vetor Suporte SVM\n",
        "\n",
        "  # Cross-Validation models.\n",
        "  from sklearn.model_selection import cross_val_score\n",
        "  from sklearn.model_selection import KFold\n",
        "\n",
        "  # Configuração de KFold.\n",
        "  kfold  = KFold(n_splits=10, shuffle=True)\n",
        "\n",
        "  # Axis\n",
        "  x = x_axis\n",
        "  y = y_axis\n",
        "\n",
        "  # Criando os modelos\n",
        "\n",
        "  # KNN\n",
        "  knn = KNeighborsClassifier(n_neighbors=8, metric= 'euclidean', weights='distance')\n",
        "  knn.fit(x_train, y_train)\n",
        "\n",
        "  # SVM\n",
        "  svm = SVC()\n",
        "  svm.fit(x_train, y_train)\n",
        "\n",
        "  # RandomForest\n",
        "  rf = RandomForestClassifier(random_state=7)\n",
        "  rf.fit(x_train, y_train)\n",
        "\n",
        "  # Applyes KFold to models.\n",
        "  knn_result = cross_val_score(knn, x, y, cv = kfold)\n",
        "  svm_result = cross_val_score(svm, x, y, cv = kfold)\n",
        "  rf_result = cross_val_score(rf, x, y, cv = kfold)\n",
        "\n",
        "  # Creates a dictionary to store Linear Models.\n",
        "  dic_models = {\n",
        "    \"KNN\": knn_result.mean(),\n",
        "    \"SVM\": svm_result.mean(),\n",
        "    \"RF\": rf_result.mean()\n",
        "  }\n",
        "  # Select the best model.\n",
        "  melhorModelo = max(dic_models, key=dic_models.get)\n",
        "\n",
        "  print(\"KNN (R^2): {0}\\nSVM (R^2): {1}\\nRandom Forest (R^2): {2}\".format(knn_result.mean(), svm_result.mean(), rf_result.mean()))\n",
        "  print(\"O melhor modelo é : {0} com o valor: {1}\".format(melhorModelo, dic_models[melhorModelo]))"
      ]
    },
    {
      "cell_type": "code",
      "execution_count": null,
      "id": "52782c3d",
      "metadata": {
        "execution": {
          "iopub.execute_input": "2025-07-06T19:57:20.479376Z",
          "iopub.status.busy": "2025-07-06T19:57:20.479009Z",
          "iopub.status.idle": "2025-07-06T19:57:23.370933Z",
          "shell.execute_reply": "2025-07-06T19:57:23.369856Z"
        },
        "papermill": {
          "duration": 2.91378,
          "end_time": "2025-07-06T19:57:23.373331",
          "exception": false,
          "start_time": "2025-07-06T19:57:20.459551",
          "status": "completed"
        },
        "tags": [],
        "id": "52782c3d"
      },
      "outputs": [],
      "source": [
        "AplicaValidacaoCruzada(x, y)"
      ]
    },
    {
      "cell_type": "code",
      "execution_count": null,
      "id": "9166643e",
      "metadata": {
        "execution": {
          "iopub.execute_input": "2025-07-06T19:57:23.404149Z",
          "iopub.status.busy": "2025-07-06T19:57:23.403778Z",
          "iopub.status.idle": "2025-07-06T19:57:23.414930Z",
          "shell.execute_reply": "2025-07-06T19:57:23.413892Z"
        },
        "papermill": {
          "duration": 0.028838,
          "end_time": "2025-07-06T19:57:23.416639",
          "exception": false,
          "start_time": "2025-07-06T19:57:23.387801",
          "status": "completed"
        },
        "tags": [],
        "id": "9166643e"
      },
      "outputs": [],
      "source": [
        "from sklearn import metrics\n",
        "from sklearn.metrics import roc_curve, auc\n",
        "\n",
        "y_prob = model.predict_proba(x_test)[:,1]\n",
        "false_positive_rate, true_positive_rate, thresholds = roc_curve(y_test, y_prob)\n",
        "roc_auc = auc(false_positive_rate, true_positive_rate)\n",
        "roc_auc"
      ]
    },
    {
      "cell_type": "code",
      "execution_count": null,
      "id": "9df18a3f",
      "metadata": {
        "execution": {
          "iopub.execute_input": "2025-07-06T19:57:23.446993Z",
          "iopub.status.busy": "2025-07-06T19:57:23.446675Z",
          "iopub.status.idle": "2025-07-06T19:57:23.726388Z",
          "shell.execute_reply": "2025-07-06T19:57:23.725111Z"
        },
        "papermill": {
          "duration": 0.297144,
          "end_time": "2025-07-06T19:57:23.728294",
          "exception": false,
          "start_time": "2025-07-06T19:57:23.431150",
          "status": "completed"
        },
        "tags": [],
        "id": "9df18a3f"
      },
      "outputs": [],
      "source": [
        "import matplotlib.pyplot as plt\n",
        "\n",
        "plt.figure(figsize=(10,10))\n",
        "plt.title('Receiver Operating Characteristic')\n",
        "plt.plot(false_positive_rate,true_positive_rate, color='red',label = 'AUC = %0.2f' % roc_auc)\n",
        "plt.legend(loc = 'lower right')\n",
        "plt.plot([0, 1], [0, 1],linestyle='--')\n",
        "plt.axis('tight')\n",
        "plt.ylabel('True Positive Rate')\n",
        "plt.xlabel('False Positive Rate')"
      ]
    }
  ],
  "metadata": {
    "kaggle": {
      "accelerator": "none",
      "dataSources": [
        {
          "datasetId": 818300,
          "sourceId": 1400440,
          "sourceType": "datasetVersion"
        }
      ],
      "dockerImageVersionId": 31040,
      "isGpuEnabled": false,
      "isInternetEnabled": false,
      "language": "python",
      "sourceType": "notebook"
    },
    "kernelspec": {
      "display_name": "Python 3",
      "language": "python",
      "name": "python3"
    },
    "language_info": {
      "codemirror_mode": {
        "name": "ipython",
        "version": 3
      },
      "file_extension": ".py",
      "mimetype": "text/x-python",
      "name": "python",
      "nbconvert_exporter": "python",
      "pygments_lexer": "ipython3",
      "version": "3.11.11"
    },
    "papermill": {
      "default_parameters": {},
      "duration": 26.209188,
      "end_time": "2025-07-06T19:57:26.364330",
      "environment_variables": {},
      "exception": null,
      "input_path": "__notebook__.ipynb",
      "output_path": "__notebook__.ipynb",
      "parameters": {},
      "start_time": "2025-07-06T19:57:00.155142",
      "version": "2.6.0"
    },
    "colab": {
      "provenance": []
    }
  },
  "nbformat": 4,
  "nbformat_minor": 5
}